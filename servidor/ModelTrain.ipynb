{
 "cells": [
  {
   "cell_type": "markdown",
   "id": "4b8fe0f9-27fe-4c8f-bf79-d1ff440e2e71",
   "metadata": {},
   "source": [
    "<center>\n",
    "    <img src=\"https://upload.wikimedia.org/wikipedia/commons/b/b0/Logo_Universidad_Polit%C3%A9cnica_Salesiana_del_Ecuador.png\" alt=\"Universidad Politécnica Salesiana\" width=\"800\">\n",
    "</center>\n",
    "\n",
    "# <font color=\"#2E86C1\">Desarrollo e implementación de aplicaciones de cómputo paralelo para análisis de grandes volúmenes de datos usando procesamiento de lenguaje natural</font>\n",
    "\n",
    "### <font color=\"#1ABC9C\">**Ingeniería en Ciencias Computacionales**</font>\n",
    "\n",
    "**Autor:** Kaar Joseph, Sebastián Andrade, Bryam Guachum <br>\n",
    "**Universidad Politécnica Salesiana, sede Cuenca, Ecuador**\n",
    "\n",
    "---"
   ]
  },
  {
   "cell_type": "markdown",
   "id": "f388da98-085c-4624-8f39-6488aba91e13",
   "metadata": {},
   "source": [
    "## Carga de librerías"
   ]
  },
  {
   "cell_type": "code",
   "execution_count": 438,
   "id": "b349fce3-1f7f-47e3-9259-a282a72a148d",
   "metadata": {},
   "outputs": [
    {
     "name": "stdout",
     "output_type": "stream",
     "text": [
      "Configuración inicial completada.\n"
     ]
    }
   ],
   "source": [
    "# Librerías básicas\n",
    "import pandas as pd\n",
    "import numpy as np\n",
    "\n",
    "# Librerías para preprocesamiento de texto\n",
    "import re\n",
    "import nltk\n",
    "from nltk.corpus import stopwords\n",
    "from nltk.stem import WordNetLemmatizer\n",
    "\n",
    "# Librerías para machine learning\n",
    "from sklearn.model_selection import train_test_split\n",
    "from sklearn.feature_extraction.text import CountVectorizer, TfidfVectorizer\n",
    "from sklearn.naive_bayes import MultinomialNB\n",
    "from sklearn.metrics import classification_report, accuracy_score, confusion_matrix\n",
    "\n",
    "# Librerías para visualización\n",
    "import matplotlib.pyplot as plt\n",
    "import seaborn as sns\n",
    "\n",
    "print(\"Configuración inicial completada.\")"
   ]
  },
  {
   "cell_type": "markdown",
   "id": "8b6e8cbe-7473-47d0-ba4f-3b43196978f3",
   "metadata": {},
   "source": [
    "## Carga de Dataset"
   ]
  },
  {
   "cell_type": "code",
   "execution_count": 441,
   "id": "d4c14dad-6515-4d5e-a4e7-4f1651aaa938",
   "metadata": {},
   "outputs": [
    {
     "name": "stdout",
     "output_type": "stream",
     "text": [
      "Dataset cargado con 958196 registros.\n"
     ]
    },
    {
     "data": {
      "text/html": [
       "<div>\n",
       "<style scoped>\n",
       "    .dataframe tbody tr th:only-of-type {\n",
       "        vertical-align: middle;\n",
       "    }\n",
       "\n",
       "    .dataframe tbody tr th {\n",
       "        vertical-align: top;\n",
       "    }\n",
       "\n",
       "    .dataframe thead th {\n",
       "        text-align: right;\n",
       "    }\n",
       "</style>\n",
       "<table border=\"1\" class=\"dataframe\">\n",
       "  <thead>\n",
       "    <tr style=\"text-align: right;\">\n",
       "      <th></th>\n",
       "      <th>comentario</th>\n",
       "      <th>etiqueta</th>\n",
       "    </tr>\n",
       "  </thead>\n",
       "  <tbody>\n",
       "    <tr>\n",
       "      <th>0</th>\n",
       "      <td>Ni modo ándate a la verga broder</td>\n",
       "      <td>negativo</td>\n",
       "    </tr>\n",
       "    <tr>\n",
       "      <th>1</th>\n",
       "      <td>No callate y andate a la verga</td>\n",
       "      <td>negativo</td>\n",
       "    </tr>\n",
       "    <tr>\n",
       "      <th>2</th>\n",
       "      <td>andate a la verga cara de nalga cagada</td>\n",
       "      <td>negativo</td>\n",
       "    </tr>\n",
       "    <tr>\n",
       "      <th>3</th>\n",
       "      <td>Andate a la verga mentiroso hp</td>\n",
       "      <td>negativo</td>\n",
       "    </tr>\n",
       "    <tr>\n",
       "      <th>4</th>\n",
       "      <td>andate a la verga meEntiendes Esperemos que po...</td>\n",
       "      <td>negativo</td>\n",
       "    </tr>\n",
       "  </tbody>\n",
       "</table>\n",
       "</div>"
      ],
      "text/plain": [
       "                                          comentario  etiqueta\n",
       "0                 Ni modo ándate a la verga broder  negativo\n",
       "1                     No callate y andate a la verga  negativo\n",
       "2             andate a la verga cara de nalga cagada  negativo\n",
       "3                     Andate a la verga mentiroso hp  negativo\n",
       "4  andate a la verga meEntiendes Esperemos que po...  negativo"
      ]
     },
     "execution_count": 441,
     "metadata": {},
     "output_type": "execute_result"
    }
   ],
   "source": [
    "# Ruta del dataset\n",
    "ruta_dataset = \"comentarios_twitter_dropna.csv\"\n",
    "\n",
    "# Cargar dataset y mostrar estadísticas básicas\n",
    "data = pd.read_csv(ruta_dataset, delimiter=';')\n",
    "print(f\"Dataset cargado con {len(data)} registros.\")\n",
    "data.head()"
   ]
  },
  {
   "cell_type": "markdown",
   "id": "cd8cb9e2-2d56-40f6-8168-f7d80ff0ceb7",
   "metadata": {},
   "source": [
    "## Información de dataset"
   ]
  },
  {
   "cell_type": "code",
   "execution_count": 443,
   "id": "1fa105c7-10f9-4e97-a749-1c7a477a1280",
   "metadata": {},
   "outputs": [
    {
     "name": "stdout",
     "output_type": "stream",
     "text": [
      "\n",
      "Información del dataset:\n",
      "<class 'pandas.core.frame.DataFrame'>\n",
      "RangeIndex: 958196 entries, 0 to 958195\n",
      "Data columns (total 2 columns):\n",
      " #   Column      Non-Null Count   Dtype \n",
      "---  ------      --------------   ----- \n",
      " 0   comentario  958196 non-null  object\n",
      " 1   etiqueta    958196 non-null  object\n",
      "dtypes: object(2)\n",
      "memory usage: 14.6+ MB\n",
      "None\n"
     ]
    }
   ],
   "source": [
    "print(\"\\nInformación del dataset:\")\n",
    "print(data.info())"
   ]
  },
  {
   "cell_type": "markdown",
   "id": "42273ebb-a2c4-4f8e-82f8-c191160a4409",
   "metadata": {},
   "source": [
    "## Limpieza de filas incosistentes"
   ]
  },
  {
   "cell_type": "code",
   "execution_count": 445,
   "id": "8abdd658-f0f1-4e7f-a888-f2b62c4fed97",
   "metadata": {},
   "outputs": [
    {
     "name": "stdout",
     "output_type": "stream",
     "text": [
      "\n",
      "Valores únicos en la columna 'etiqueta':\n",
      "['negativo' 'positivo']\n"
     ]
    }
   ],
   "source": [
    "print(\"\\nValores únicos en la columna 'etiqueta':\")\n",
    "print(data['etiqueta'].unique())"
   ]
  },
  {
   "cell_type": "code",
   "execution_count": 446,
   "id": "dba857b8-2632-4e78-a886-734b1c1b6a6a",
   "metadata": {},
   "outputs": [
    {
     "name": "stdout",
     "output_type": "stream",
     "text": [
      "Distribución de etiquetas:\n",
      "etiqueta\n",
      "negativo    542982\n",
      "positivo    415214\n",
      "Name: count, dtype: int64\n"
     ]
    }
   ],
   "source": [
    "# Distribución de etiquetas\n",
    "print(\"Distribución de etiquetas:\")\n",
    "print(data['etiqueta'].value_counts())"
   ]
  },
  {
   "cell_type": "code",
   "execution_count": 447,
   "id": "6eaf765c-2e02-4c37-881b-b1ac36854b73",
   "metadata": {},
   "outputs": [
    {
     "name": "stdout",
     "output_type": "stream",
     "text": [
      "\n",
      "Cantidad de valores nulos antes de limpieza:\n",
      "comentario    0\n",
      "etiqueta      0\n",
      "dtype: int64\n"
     ]
    }
   ],
   "source": [
    "# 1. Verificar valores nulos\n",
    "print(\"\\nCantidad de valores nulos antes de limpieza:\")\n",
    "print(data.isnull().sum())\n",
    "\n",
    "data = data.dropna()"
   ]
  },
  {
   "cell_type": "code",
   "execution_count": 448,
   "id": "7a299e83-f4cd-4560-9014-4f213360692e",
   "metadata": {},
   "outputs": [
    {
     "name": "stdout",
     "output_type": "stream",
     "text": [
      "\n",
      "Valores NaN después de la eliminación: 0\n"
     ]
    }
   ],
   "source": [
    "# Eliminar filas con valores NaN en la columna 'etiqueta'\n",
    "data = data.dropna(subset=['etiqueta'])\n",
    "\n",
    "print(\"\\nValores NaN después de la eliminación:\", data['etiqueta'].isnull().sum())"
   ]
  },
  {
   "cell_type": "code",
   "execution_count": 449,
   "id": "32d643d7-d92e-4bca-9cba-1917f7859564",
   "metadata": {},
   "outputs": [
    {
     "name": "stdout",
     "output_type": "stream",
     "text": [
      "\n",
      "Cantidad de filas antes de eliminar duplicados: 958196\n",
      "Cantidad de filas después de eliminar duplicados: 829505\n"
     ]
    }
   ],
   "source": [
    "# 2. Eliminar filas duplicadas\n",
    "print(\"\\nCantidad de filas antes de eliminar duplicados:\", len(data))\n",
    "data = data.drop_duplicates()\n",
    "print(\"Cantidad de filas después de eliminar duplicados:\", len(data))"
   ]
  },
  {
   "cell_type": "code",
   "execution_count": 450,
   "id": "285fc29d-ee44-4c62-8d8e-47f35c01634e",
   "metadata": {},
   "outputs": [
    {
     "name": "stdout",
     "output_type": "stream",
     "text": [
      "\n",
      "Etiquetas únicas antes de mapeo: ['negativo' 'positivo']\n",
      "Etiquetas únicas después de mapeo: [0 1]\n"
     ]
    }
   ],
   "source": [
    "# 3. Estandarizar etiquetas\n",
    "# Convertir las etiquetas a valores binarios si no están en formato numérico\n",
    "etiquetas_originales = data['etiqueta'].unique()\n",
    "print(\"\\nEtiquetas únicas antes de mapeo:\", etiquetas_originales)\n",
    "\n",
    "etiqueta_mapping = {'positivo': 1, 'negativo': 0}\n",
    "data['etiqueta'] = data['etiqueta'].map(etiqueta_mapping)\n",
    "\n",
    "etiquetas_despues = data['etiqueta'].unique()\n",
    "print(\"Etiquetas únicas después de mapeo:\", etiquetas_despues)"
   ]
  },
  {
   "cell_type": "markdown",
   "id": "61c695b5-7fde-489b-857b-680723221774",
   "metadata": {},
   "source": [
    "## Limpieza de Texto - Columa Comentario"
   ]
  },
  {
   "cell_type": "code",
   "execution_count": 453,
   "id": "62e10b8c-0db4-4b5b-bc1f-f2d9eddd5e72",
   "metadata": {},
   "outputs": [
    {
     "name": "stdout",
     "output_type": "stream",
     "text": [
      "\n",
      "Cantidad de valores nulos después de limpieza:\n",
      "comentario    0\n",
      "etiqueta      0\n",
      "dtype: int64\n",
      "\n",
      "Primeras filas del dataset limpio:\n",
      "                                          comentario  etiqueta\n",
      "0                   ni modo ándate a la verga broder         0\n",
      "1                     no callate y andate a la verga         0\n",
      "2             andate a la verga cara de nalga cagada         0\n",
      "3                     andate a la verga mentiroso hp         0\n",
      "4  andate a la verga meentiendes esperemos que po...         0\n"
     ]
    }
   ],
   "source": [
    "# 4. Eliminar caracteres innecesarios en los comentarios\n",
    "import re\n",
    "\n",
    "def limpiar_texto(texto):\n",
    "    texto = texto.lower()  # Convertir a minúsculas\n",
    "    texto = re.sub(r\"http\\S+\", \"\", texto)  # Eliminar URLs\n",
    "    texto = re.sub(r\"@\\w+\", \"\", texto)  # Eliminar menciones\n",
    "    texto = re.sub(r\"[^a-zA-Záéíóúüñ\\s]\", \"\", texto)  # Eliminar caracteres especiales\n",
    "    texto = re.sub(r\"\\s+\", \" \", texto).strip()  # Eliminar espacios extra\n",
    "    return texto\n",
    "\n",
    "data['comentario'] = data['comentario'].apply(limpiar_texto)\n",
    "\n",
    "print(\"\\nCantidad de valores nulos después de limpieza:\")\n",
    "print(data.isnull().sum())\n",
    "\n",
    "print(\"\\nPrimeras filas del dataset limpio:\")\n",
    "print(data.head())"
   ]
  },
  {
   "cell_type": "markdown",
   "id": "b9895aa1-182a-4f47-a2a3-6ab617ceb046",
   "metadata": {},
   "source": [
    "## Visualización de distribución final"
   ]
  },
  {
   "cell_type": "code",
   "execution_count": 459,
   "id": "e1099af4-e9c3-408e-8350-5ffac0581509",
   "metadata": {},
   "outputs": [
    {
     "name": "stdout",
     "output_type": "stream",
     "text": [
      "Conteo total de etiquetas:\n",
      "etiqueta\n",
      "0    471819\n",
      "1    357686\n",
      "Name: count, dtype: int64\n",
      "Total: 829505\n"
     ]
    },
    {
     "data": {
      "image/png": "[encoded data removed]",
      "text/plain": [
       "<Figure size 800x600 with 1 Axes>"
      ]
     },
     "metadata": {},
     "output_type": "display_data"
    }
   ],
   "source": [
    "import matplotlib.pyplot as plt\n",
    "import seaborn as sns\n",
    "\n",
    "# Contar la cantidad de cada etiqueta\n",
    "etiquetas_conteo = data['etiqueta'].value_counts()\n",
    "\n",
    "# Imprimir el total de etiquetas\n",
    "print(\"Conteo total de etiquetas:\")\n",
    "print(etiquetas_conteo)\n",
    "print(f\"Total: {etiquetas_conteo.sum()}\")\n",
    "\n",
    "# Crear el gráfico\n",
    "plt.figure(figsize=(8, 6))\n",
    "ax = sns.countplot(data=data, x='etiqueta', hue='etiqueta', palette='coolwarm', dodge=False, legend=False)\n",
    "\n",
    "# Agregar los números encima de las barras\n",
    "for p in ax.patches:\n",
    "    ax.annotate(f'{int(p.get_height())}', \n",
    "                (p.get_x() + p.get_width() / 2., p.get_height()), \n",
    "                ha='center', va='baseline', fontsize=12, color='black', xytext=(0, 5),\n",
    "                textcoords='offset points')\n",
    "\n",
    "plt.title(\"Distribución de Etiquetas\")\n",
    "plt.xlabel(\"Etiqueta\")\n",
    "plt.ylabel(\"Cantidad\")\n",
    "plt.show()"
   ]
  },
  {
   "cell_type": "code",
   "execution_count": 461,
   "id": "6e2d52d3-8dfc-4af8-b03f-a8dfebf9c1ab",
   "metadata": {},
   "outputs": [
    {
     "name": "stdout",
     "output_type": "stream",
     "text": [
      "\n",
      "Distribución de etiquetas en el conjunto original:\n",
      "etiqueta\n",
      "0    0.568796\n",
      "1    0.431204\n",
      "Name: proportion, dtype: float64\n",
      "\n",
      "Distribución de etiquetas en el conjunto de entrenamiento:\n",
      "etiqueta\n",
      "0    0.568796\n",
      "1    0.431204\n",
      "Name: proportion, dtype: float64\n",
      "\n",
      "Distribución de etiquetas en el conjunto de prueba:\n",
      "etiqueta\n",
      "0    0.568797\n",
      "1    0.431203\n",
      "Name: proportion, dtype: float64\n",
      "\n",
      "Tamaño del conjunto de entrenamiento: 663604\n",
      "Tamaño del conjunto de prueba: 165901\n"
     ]
    }
   ],
   "source": [
    "from sklearn.model_selection import train_test_split\n",
    "\n",
    "# 1. Definir variables independientes \n",
    "X = data['comentario']  \n",
    "y = data['etiqueta']    \n",
    "\n",
    "# 2. Dividir los datos en conjuntos de entrenamiento y prueba\n",
    "X_train, X_test, y_train, y_test = train_test_split(\n",
    "    X, y, test_size=0.2, stratify=y, random_state=42\n",
    ")\n",
    "\n",
    "# 3. Verificar las proporciones\n",
    "print(\"\\nDistribución de etiquetas en el conjunto original:\")\n",
    "print(data['etiqueta'].value_counts(normalize=True))\n",
    "\n",
    "print(\"\\nDistribución de etiquetas en el conjunto de entrenamiento:\")\n",
    "print(y_train.value_counts(normalize=True))\n",
    "\n",
    "print(\"\\nDistribución de etiquetas en el conjunto de prueba:\")\n",
    "print(y_test.value_counts(normalize=True))\n",
    "\n",
    "# Confirmación de tamaños\n",
    "print(\"\\nTamaño del conjunto de entrenamiento:\", len(X_train))\n",
    "print(\"Tamaño del conjunto de prueba:\", len(X_test))"
   ]
  },
  {
   "cell_type": "markdown",
   "id": "b46b6b58-e728-4d28-b024-0c95bf126068",
   "metadata": {},
   "source": [
    "## Procesamiento de texto - Vectorización - NLTK Tokenización"
   ]
  },
  {
   "cell_type": "code",
   "execution_count": 463,
   "id": "44fa4b15-0a30-4156-b18e-bf5e14eb4d9f",
   "metadata": {},
   "outputs": [
    {
     "name": "stdout",
     "output_type": "stream",
     "text": [
      "\n",
      "Dimensiones de la matriz de características del conjunto de entrenamiento: (663604, 5000)\n",
      "Dimensiones de la matriz de características del conjunto de prueba: (165901, 5000)\n"
     ]
    }
   ],
   "source": [
    "import nltk\n",
    "from sklearn.feature_extraction.text import TfidfVectorizer\n",
    "from nltk.corpus import stopwords\n",
    "\n",
    "# Obtener stopwords en español\n",
    "stopwords_spanish = stopwords.words('spanish')\n",
    "\n",
    "# Crear el vectorizador TF-IDF con las stopwords en español\n",
    "tfidf_vectorizer = TfidfVectorizer(max_features=5000, stop_words=stopwords_spanish)\n",
    "\n",
    "# Ajustar y transformar los datos de entrenamiento\n",
    "X_train_tfidf = tfidf_vectorizer.fit_transform(X_train)\n",
    "\n",
    "# Transformar los datos de prueba\n",
    "X_test_tfidf = tfidf_vectorizer.transform(X_test)\n",
    "\n",
    "# Ver el tamaño de las matrices resultantes\n",
    "print(\"\\nDimensiones de la matriz de características del conjunto de entrenamiento:\", X_train_tfidf.shape)\n",
    "print(\"Dimensiones de la matriz de características del conjunto de prueba:\", X_test_tfidf.shape)"
   ]
  },
  {
   "cell_type": "markdown",
   "id": "e957604d-cb19-421a-a0cc-5d10b87615bf",
   "metadata": {},
   "source": [
    "## ENTRENAMIENTO DE MODELO POR REGRESIÓN LOGÍSTICA"
   ]
  },
  {
   "cell_type": "code",
   "execution_count": 467,
   "id": "ba75408a-69b5-49de-a17e-9c67d65a534e",
   "metadata": {},
   "outputs": [
    {
     "name": "stdout",
     "output_type": "stream",
     "text": [
      "Accuracy: 0.926866022507399\n",
      "\n",
      "Reporte de clasificación:\n",
      "               precision    recall  f1-score   support\n",
      "\n",
      "           0       0.94      0.93      0.94     94364\n",
      "           1       0.91      0.92      0.92     71537\n",
      "\n",
      "    accuracy                           0.93    165901\n",
      "   macro avg       0.93      0.93      0.93    165901\n",
      "weighted avg       0.93      0.93      0.93    165901\n",
      "\n",
      "\n",
      "Matriz de Confusión:\n",
      "[[88225  6139]\n",
      " [ 5994 65543]]\n"
     ]
    },
    {
     "data": {
      "image/png": "[encoded data removed]",
      "text/plain": [
       "<Figure size 800x600 with 2 Axes>"
      ]
     },
     "metadata": {},
     "output_type": "display_data"
    }
   ],
   "source": [
    "from sklearn.linear_model import LogisticRegression\n",
    "from sklearn.metrics import accuracy_score, classification_report, confusion_matrix\n",
    "\n",
    "# 1. Crear el modelo de regresión logística\n",
    "model = LogisticRegression()\n",
    "\n",
    "# 2. Entrenar el modelo\n",
    "model.fit(X_train_tfidf, y_train)\n",
    "\n",
    "# 3. Hacer predicciones sobre el conjunto de prueba\n",
    "y_pred = model.predict(X_test_tfidf)\n",
    "\n",
    "# 4. Evaluar el rendimiento del modelo\n",
    "print(\"Accuracy:\", accuracy_score(y_test, y_pred))\n",
    "print(\"\\nReporte de clasificación:\\n\", classification_report(y_test, y_pred))\n",
    "\n",
    "# 5. Matriz de Confusión\n",
    "cm = confusion_matrix(y_test, y_pred)\n",
    "print(\"\\nMatriz de Confusión:\")\n",
    "print(cm)\n",
    "\n",
    "# 6. Graficar la matriz de confusión\n",
    "import matplotlib.pyplot as plt\n",
    "import seaborn as sns\n",
    "\n",
    "plt.figure(figsize=(8,6))\n",
    "sns.heatmap(cm, annot=True, fmt=\"d\", cmap=\"Blues\", xticklabels=[\"Negativo\", \"Positivo\"], yticklabels=[\"Negativo\", \"Positivo\"])\n",
    "plt.title(\"Matriz de Confusión\")\n",
    "plt.xlabel(\"Predicción\")\n",
    "plt.ylabel(\"Valor Real\")\n",
    "plt.show()"
   ]
  },
  {
   "cell_type": "markdown",
   "id": "784ff74c-dcc4-46ef-b2d7-99eb3c18b30b",
   "metadata": {},
   "source": [
    "## GUARDAR MODELO"
   ]
  },
  {
   "cell_type": "code",
   "execution_count": 469,
   "id": "2252ab1b-0e9f-46cd-8774-cccc054a8a7a",
   "metadata": {},
   "outputs": [
    {
     "name": "stdout",
     "output_type": "stream",
     "text": [
      "Modelo guardado como 'modelo_sentimientos.pkl'\n"
     ]
    }
   ],
   "source": [
    "import joblib\n",
    "\n",
    "# 1. Guardar el modelo entrenado\n",
    "joblib.dump(model, 'modelo_sentimientos.pkl')\n",
    "print(\"Modelo guardado como 'modelo_sentimientos.pkl'\")"
   ]
  },
  {
   "cell_type": "code",
   "execution_count": 470,
   "id": "10fef79e-dcd2-4765-b516-807be8df4b33",
   "metadata": {},
   "outputs": [
    {
     "name": "stdout",
     "output_type": "stream",
     "text": [
      "Modelo cargado correctamente\n"
     ]
    }
   ],
   "source": [
    "# 2. Cargar el modelo guardado (cuando sea necesario en el futuro)\n",
    "loaded_model = joblib.load('modelo_sentimientos.pkl')\n",
    "print(\"Modelo cargado correctamente\")"
   ]
  },
  {
   "cell_type": "markdown",
   "id": "f3111229-5c65-4014-b487-8b15178c3fbe",
   "metadata": {},
   "source": [
    "## NUEVA PREDICCÓN DE COMENTARIO"
   ]
  },
  {
   "cell_type": "code",
   "execution_count": 472,
   "id": "2e0f5935-6601-4dbb-8f10-7231aaa7f092",
   "metadata": {},
   "outputs": [
    {
     "name": "stdout",
     "output_type": "stream",
     "text": [
      "Predicción para el nuevo comentario: Negativo\n"
     ]
    }
   ],
   "source": [
    "# 3. PREDICCIÓN DE COMENTARIO\n",
    "nuevo_comentario = [\"La IA me parece una mrd :v\"]\n",
    "nuevo_comentario_tfidf = tfidf_vectorizer.transform(nuevo_comentario)\n",
    "prediccion = loaded_model.predict(nuevo_comentario_tfidf)\n",
    "print(f\"Predicción para el nuevo comentario: {'Positivo' if prediccion[0] == 1 else 'Negativo'}\")"
   ]
  },
  {
   "cell_type": "code",
   "execution_count": null,
   "id": "66eba041-c631-4c31-8aaf-e484cddf8444",
   "metadata": {},
   "outputs": [],
   "source": []
  }
 ],
 "metadata": {
  "kernelspec": {
   "display_name": "Python 3 (ipykernel)",
   "language": "python",
   "name": "python3"
  },
  "language_info": {
   "codemirror_mode": {
    "name": "ipython",
    "version": 3
   },
   "file_extension": ".py",
   "mimetype": "text/x-python",
   "name": "python",
   "nbconvert_exporter": "python",
   "pygments_lexer": "ipython3",
   "version": "3.12.7"
  }
 },
 "nbformat": 4,
 "nbformat_minor": 5
}
